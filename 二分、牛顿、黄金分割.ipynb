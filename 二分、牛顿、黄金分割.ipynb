{
 "cells": [
  {
   "cell_type": "markdown",
   "id": "9e809a6c",
   "metadata": {},
   "source": [
    "# 求n阶一元导函数 简洁版"
   ]
  },
  {
   "cell_type": "code",
   "execution_count": 1,
   "id": "3754ee51",
   "metadata": {},
   "outputs": [],
   "source": [
    "def calculateD(n,x0):\n",
    "    from sympy import diff\n",
    "    from sympy import symbols\n",
    "    x = symbols(\"x\")\n",
    "    return diff(f(x),x,n).subs(x,x0)"
   ]
  },
  {
   "cell_type": "markdown",
   "id": "9c9c832d",
   "metadata": {},
   "source": [
    "# 求二元导数梯度"
   ]
  },
  {
   "cell_type": "code",
   "execution_count": 2,
   "id": "50a074f8",
   "metadata": {},
   "outputs": [],
   "source": [
    "def calculateG(x,y):\n",
    "    from sympy import diff\n",
    "    from sympy import symbols\n",
    "    x,y = symbols(\"x,y\")\n",
    "    return diff(f(x,y),x),diff(f(x,y),y)"
   ]
  },
  {
   "cell_type": "markdown",
   "id": "96101f0c",
   "metadata": {},
   "source": [
    "# 二分法"
   ]
  },
  {
   "cell_type": "code",
   "execution_count": 3,
   "id": "ba48ce37",
   "metadata": {},
   "outputs": [],
   "source": [
    "#公式\n",
    "def f(x):\n",
    "    return 1.5*x**4-(13/3)*x**3+4*x**2-x"
   ]
  },
  {
   "cell_type": "code",
   "execution_count": 4,
   "id": "3af985a8",
   "metadata": {},
   "outputs": [],
   "source": [
    "#平分法\n",
    "def Bisection(e,a,b):\n",
    "    c=(a+b)/2\n",
    "    while (b-a)>e:\n",
    "        c=c=(a+b)/2\n",
    "        fc=calculateD(1,c)\n",
    "        if fc==0:\n",
    "            break\n",
    "        if fc<0:\n",
    "            a=c\n",
    "        else:\n",
    "            b=c\n",
    "    return b,a\n",
    "def BisectionWithPrint(e,a,b):\n",
    "    c=(a+b)/2\n",
    "    i=0\n",
    "    while (b-a)>e:\n",
    "        i+=1\n",
    "        c=c=(a+b)/2\n",
    "        fc=calculateD(1,c)\n",
    "        print(\"a:\\t{:.4f}\\tb:\\t{:.4f}\\tc:\\t{:.4f}\\tfc:\\t{:.4f}\\ti: {:.0f}\".format(a,b,c,fc,i))\n",
    "        if fc==0:\n",
    "            break\n",
    "        if fc<0:\n",
    "            a=c\n",
    "        else:\n",
    "            b=c\n",
    "    return a,b\n",
    "def BisectionX(e,a,b):\n",
    "    return (Bisection(e,a,b)[0]+Bisection(e,a,b)[1])/2\n",
    "def BisectionAns(e,a,b):\n",
    "    return f(BisectionX(e,a,b))"
   ]
  },
  {
   "cell_type": "code",
   "execution_count": 5,
   "id": "5bfd8a07",
   "metadata": {},
   "outputs": [
    {
     "name": "stdout",
     "output_type": "stream",
     "text": [
      "(0.25, 0.125)\n",
      "a:\t0.0000\tb:\t1.0000\tc:\t0.5000\tfc:\t0.5000\ti: 1\n",
      "a:\t0.0000\tb:\t0.5000\tc:\t0.2500\tfc:\t0.2812\ti: 2\n",
      "a:\t0.0000\tb:\t0.2500\tc:\t0.1250\tfc:\t-0.1914\ti: 3\n",
      "(0.125, 0.25)\n",
      "0.1875\n",
      "-0.07358551025390625\n"
     ]
    }
   ],
   "source": [
    "print(Bisection(0.15,0,1))\n",
    "print(BisectionWithPrint(0.15,0,1))\n",
    "print(BisectionX(0.15,0,1))\n",
    "print(BisectionAns(0.15,0,1))"
   ]
  },
  {
   "cell_type": "markdown",
   "id": "195cd531",
   "metadata": {},
   "source": [
    "# 牛顿法"
   ]
  },
  {
   "cell_type": "code",
   "execution_count": 6,
   "id": "68d01c93",
   "metadata": {},
   "outputs": [],
   "source": [
    "#公式\n",
    "\n",
    "def f(x):\n",
    "    return x**4-4*x**3-6*x**2-16*x+4"
   ]
  },
  {
   "cell_type": "code",
   "execution_count": 7,
   "id": "5d908c0c",
   "metadata": {},
   "outputs": [],
   "source": [
    "#牛顿法\n",
    "def Newton(e,x0):\n",
    "    i=0\n",
    "    fx0=calculateD(1,x0)\n",
    "    while abs(fx0)>=e:\n",
    "        i+=1\n",
    "        fx0=calculateD(1,x0)\n",
    "        ffx0=calculateD(2,x0)\n",
    "        x0=x0-(fx0/ffx0)\n",
    "    return x0\n",
    "\n",
    "def NewtonWithPrint(e,x0):\n",
    "    i=0\n",
    "    fx0=calculateD(1,x0)\n",
    "    while abs(fx0)>=e:\n",
    "        i+=1\n",
    "        fx0=calculateD(1,x0)\n",
    "        ffx0=calculateD(2,x0)\n",
    "        print(\"i:\\t{:.0f}\\tx0:\\t{:.4f}\\tfx0:\\t{:10.4f}\\tffx0:\\t{:.0f}\\t\".format(i,x0,fx0,ffx0))\n",
    "        x0=x0-(fx0/ffx0)\n",
    "    return x0\n",
    "\n",
    "def NewtonAns(e,x0):\n",
    "    return f(Newton(e,x0))"
   ]
  },
  {
   "cell_type": "code",
   "execution_count": 8,
   "id": "89dffff5",
   "metadata": {},
   "outputs": [],
   "source": [
    "#制表符对不齐，控制下字符串长度就好了，{:10.4f}"
   ]
  },
  {
   "cell_type": "code",
   "execution_count": 9,
   "id": "e2879d19",
   "metadata": {},
   "outputs": [
    {
     "name": "stdout",
     "output_type": "stream",
     "text": [
      "4.00000000000001\n",
      "i:\t1\tx0:\t3.0000\tfx0:\t  -52.0000\tffx0:\t24\t\n",
      "i:\t2\tx0:\t5.1667\tfx0:\t  153.3519\tffx0:\t184\t\n",
      "i:\t3\tx0:\t4.3347\tfx0:\t   32.3020\tffx0:\t109\t\n",
      "i:\t4\tx0:\t4.0396\tfx0:\t    3.3830\tffx0:\t87\t\n",
      "i:\t5\tx0:\t4.0007\tfx0:\t    0.0551\tffx0:\t84\t\n",
      "i:\t6\tx0:\t4.0000\tfx0:\t    0.0000\tffx0:\t84\t\n",
      "4.00000000000001\n",
      "-156.000000000000\n"
     ]
    }
   ],
   "source": [
    "print(Newton(0.05,3.0))\n",
    "print(NewtonWithPrint(0.05,3.0))\n",
    "print(NewtonAns(0.05,3.0))"
   ]
  },
  {
   "cell_type": "markdown",
   "id": "02ae730f",
   "metadata": {},
   "source": [
    "# 黄金分割法 "
   ]
  },
  {
   "cell_type": "code",
   "execution_count": 10,
   "id": "443db71a",
   "metadata": {},
   "outputs": [],
   "source": [
    "def GoldenSection(a,b,i):\n",
    "    j=0\n",
    "    k=a+0.382*(b-a)\n",
    "    m=a+0.618*(b-a)\n",
    "    while j<i:\n",
    "        j+=1\n",
    "        fk=f(k)\n",
    "        fm=f(m)\n",
    "    \n",
    "        if fk>fm:\n",
    "            a=k\n",
    "            k=m\n",
    "            m=a+0.618*(b-a)\n",
    "        else:\n",
    "            b=m\n",
    "            m=k\n",
    "            k=a+0.382*(b-a)\n",
    "    return a,b\n",
    "def GoldenSectionWithPrint(a,b,i):\n",
    "    j=0\n",
    "    k=a+0.382*(b-a)\n",
    "    m=a+0.618*(b-a)\n",
    "    while j<i:\n",
    "        j+=1\n",
    "        fk=f(k)\n",
    "        fm=f(m)\n",
    "        print(\"i:\\t{:.0f}\\tk:\\t{:.4f}\\tm:\\t{:.4f}\\ta:\\t{:.4f}\\tb:\\t{:.4f}\\tfk:\\t{:.4f}\\tfm:\\t{:.4f}\\t\".format(j,k,m,a,b,fk,fm))\n",
    "        if fk>fm:\n",
    "            a=k\n",
    "            k=m\n",
    "            m=a+0.618*(b-a)\n",
    "        else:\n",
    "            b=m\n",
    "            m=k\n",
    "            k=a+0.382*(b-a)\n",
    "    return a,b\n",
    "def GoldenSectionAns(a,b,i):\n",
    "    return (GoldenSection(a,b,i)[0]+GoldenSection(a,b,i)[1])/2"
   ]
  },
  {
   "cell_type": "code",
   "execution_count": 11,
   "id": "095d7b27",
   "metadata": {},
   "outputs": [],
   "source": [
    "def f(x):\n",
    "    return x**2-x+2"
   ]
  },
  {
   "cell_type": "code",
   "execution_count": 12,
   "id": "811a5757",
   "metadata": {},
   "outputs": [
    {
     "name": "stdout",
     "output_type": "stream",
     "text": [
      "(0.4426981531788439, 0.665536968966272)\n",
      "i:\t1\tk:\t0.5280\tm:\t1.4720\ta:\t-1.0000\tb:\t3.0000\tfk:\t1.7508\tfm:\t2.6948\t\n",
      "i:\t2\tk:\t-0.0557\tm:\t0.5280\ta:\t-1.0000\tb:\t1.4720\tfk:\t2.0588\tfm:\t1.7508\t\n",
      "i:\t3\tk:\t0.5280\tm:\t0.8884\ta:\t-0.0557\tb:\t1.4720\tfk:\t1.7508\tfm:\t1.9009\t\n",
      "i:\t4\tk:\t0.3050\tm:\t0.5280\ta:\t-0.0557\tb:\t0.8884\tfk:\t1.7880\tfm:\t1.7508\t\n",
      "i:\t5\tk:\t0.5280\tm:\t0.6655\ta:\t0.3050\tb:\t0.8884\tfk:\t1.7508\tfm:\t1.7774\t\n",
      "i:\t6\tk:\t0.4427\tm:\t0.5280\ta:\t0.3050\tb:\t0.6655\tfk:\t1.7533\tfm:\t1.7508\t\n",
      "(0.4426981531788439, 0.665536968966272)\n",
      "0.5541175610725579\n"
     ]
    }
   ],
   "source": [
    "print(GoldenSection(-1,3,6))\n",
    "print(GoldenSectionWithPrint(-1,3,6))\n",
    "print(GoldenSectionAns(-1,3,6))"
   ]
  },
  {
   "cell_type": "code",
   "execution_count": 13,
   "id": "d4e232d6",
   "metadata": {},
   "outputs": [],
   "source": [
    "def f(x):\n",
    "    import math\n",
    "    return math.exp(-x)+x**2"
   ]
  },
  {
   "cell_type": "code",
   "execution_count": 14,
   "id": "f5e90f7c",
   "metadata": {},
   "outputs": [
    {
     "name": "stdout",
     "output_type": "stream",
     "text": [
      "(-0.08999999999999986, 1.0899999999999999)\n",
      "i:\t1\tk:\t-0.0900\tm:\t1.0900\ta:\t-2.0000\tb:\t3.0000\tfk:\t1.1023\tfm:\t1.5243\t\n",
      "i:\t2\tk:\t-0.8196\tm:\t-0.0900\ta:\t-2.0000\tb:\t1.0900\tfk:\t2.9414\tfm:\t1.1023\t\n",
      "i:\t3\tk:\t-0.0900\tm:\t0.3605\ta:\t-0.8196\tb:\t1.0900\tfk:\t1.1023\tfm:\t0.8273\t\n",
      "(-0.08999999999999986, 1.0899999999999999)\n",
      "0.5\n"
     ]
    }
   ],
   "source": [
    "print(GoldenSection(-2,3,3))\n",
    "print(GoldenSectionWithPrint(-2,3,3))\n",
    "print(GoldenSectionAns(-2,3,3))"
   ]
  }
 ],
 "metadata": {
  "kernelspec": {
   "display_name": "Python 3 (ipykernel)",
   "language": "python",
   "name": "python3"
  },
  "language_info": {
   "codemirror_mode": {
    "name": "ipython",
    "version": 3
   },
   "file_extension": ".py",
   "mimetype": "text/x-python",
   "name": "python",
   "nbconvert_exporter": "python",
   "pygments_lexer": "ipython3",
   "version": "3.9.7"
  }
 },
 "nbformat": 4,
 "nbformat_minor": 5
}
